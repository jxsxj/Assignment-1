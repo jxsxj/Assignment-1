{
 "cells": [
  {
   "cell_type": "markdown",
   "id": "fdff70d6",
   "metadata": {},
   "source": [
    "# CASE STUDY 2 - MEASURES OF CENTRAL TENDENCY AND DISPERSION\n",
    "> Done by Jose Johnylal\n",
    "\n",
    "---"
   ]
  },
  {
   "cell_type": "code",
   "execution_count": 1,
   "id": "a07ef50e",
   "metadata": {},
   "outputs": [],
   "source": [
    "import numpy as np\n",
    "import pandas as pd\n",
    "import matplotlib.pyplot as plt\n",
    "import seaborn as sns"
   ]
  },
  {
   "cell_type": "code",
   "execution_count": 2,
   "id": "d59b49ae",
   "metadata": {},
   "outputs": [],
   "source": [
    "stu = pd.read_csv('StudentsPerformance.csv')"
   ]
  },
  {
   "cell_type": "code",
   "execution_count": 3,
   "id": "5207cfb5",
   "metadata": {},
   "outputs": [
    {
     "data": {
      "text/html": [
       "<div>\n",
       "<style scoped>\n",
       "    .dataframe tbody tr th:only-of-type {\n",
       "        vertical-align: middle;\n",
       "    }\n",
       "\n",
       "    .dataframe tbody tr th {\n",
       "        vertical-align: top;\n",
       "    }\n",
       "\n",
       "    .dataframe thead th {\n",
       "        text-align: right;\n",
       "    }\n",
       "</style>\n",
       "<table border=\"1\" class=\"dataframe\">\n",
       "  <thead>\n",
       "    <tr style=\"text-align: right;\">\n",
       "      <th></th>\n",
       "      <th>gender</th>\n",
       "      <th>race/ethnicity</th>\n",
       "      <th>parental level of education</th>\n",
       "      <th>lunch</th>\n",
       "      <th>test preparation course</th>\n",
       "      <th>math score</th>\n",
       "      <th>reading score</th>\n",
       "      <th>writing score</th>\n",
       "    </tr>\n",
       "  </thead>\n",
       "  <tbody>\n",
       "    <tr>\n",
       "      <th>0</th>\n",
       "      <td>female</td>\n",
       "      <td>group C</td>\n",
       "      <td>some high school</td>\n",
       "      <td>free/reduced</td>\n",
       "      <td>none</td>\n",
       "      <td>0</td>\n",
       "      <td>17</td>\n",
       "      <td>10</td>\n",
       "    </tr>\n",
       "    <tr>\n",
       "      <th>1</th>\n",
       "      <td>female</td>\n",
       "      <td>group B</td>\n",
       "      <td>high school</td>\n",
       "      <td>free/reduced</td>\n",
       "      <td>none</td>\n",
       "      <td>8</td>\n",
       "      <td>24</td>\n",
       "      <td>23</td>\n",
       "    </tr>\n",
       "    <tr>\n",
       "      <th>2</th>\n",
       "      <td>female</td>\n",
       "      <td>group B</td>\n",
       "      <td>some high school</td>\n",
       "      <td>free/reduced</td>\n",
       "      <td>none</td>\n",
       "      <td>18</td>\n",
       "      <td>32</td>\n",
       "      <td>28</td>\n",
       "    </tr>\n",
       "    <tr>\n",
       "      <th>3</th>\n",
       "      <td>female</td>\n",
       "      <td>group B</td>\n",
       "      <td>some college</td>\n",
       "      <td>standard</td>\n",
       "      <td>none</td>\n",
       "      <td>11</td>\n",
       "      <td>38</td>\n",
       "      <td>32</td>\n",
       "    </tr>\n",
       "    <tr>\n",
       "      <th>4</th>\n",
       "      <td>female</td>\n",
       "      <td>group C</td>\n",
       "      <td>some college</td>\n",
       "      <td>free/reduced</td>\n",
       "      <td>none</td>\n",
       "      <td>22</td>\n",
       "      <td>39</td>\n",
       "      <td>33</td>\n",
       "    </tr>\n",
       "  </tbody>\n",
       "</table>\n",
       "</div>"
      ],
      "text/plain": [
       "   gender race/ethnicity parental level of education         lunch  \\\n",
       "0  female        group C            some high school  free/reduced   \n",
       "1  female        group B                 high school  free/reduced   \n",
       "2  female        group B            some high school  free/reduced   \n",
       "3  female        group B                some college      standard   \n",
       "4  female        group C                some college  free/reduced   \n",
       "\n",
       "  test preparation course  math score  reading score  writing score  \n",
       "0                    none           0             17             10  \n",
       "1                    none           8             24             23  \n",
       "2                    none          18             32             28  \n",
       "3                    none          11             38             32  \n",
       "4                    none          22             39             33  "
      ]
     },
     "execution_count": 3,
     "metadata": {},
     "output_type": "execute_result"
    }
   ],
   "source": [
    "stu.head()"
   ]
  },
  {
   "cell_type": "markdown",
   "id": "93fd14a9",
   "metadata": {},
   "source": [
    "### Number of males and females that participated in the test"
   ]
  },
  {
   "cell_type": "code",
   "execution_count": 9,
   "id": "791b2f38",
   "metadata": {},
   "outputs": [
    {
     "name": "stdout",
     "output_type": "stream",
     "text": [
      "Male: 482\n",
      "Female: 518\n"
     ]
    }
   ],
   "source": [
    "g = stu\n",
    "g = g.apply(lambda x : True if x['gender'] == 'male' else False, axis = 1)\n",
    "m = len(g[g == True].index)\n",
    "f = len(g[g == False].index)\n",
    "print('Male:', m)\n",
    "print('Female:', f)"
   ]
  },
  {
   "cell_type": "markdown",
   "id": "bc6796bf",
   "metadata": {},
   "source": [
    "### Analysis on the student's parental level of education"
   ]
  },
  {
   "cell_type": "code",
   "execution_count": 14,
   "id": "08b71498",
   "metadata": {},
   "outputs": [
    {
     "name": "stderr",
     "output_type": "stream",
     "text": [
      "C:\\ProgramData\\Anaconda3\\lib\\site-packages\\seaborn\\_decorators.py:36: FutureWarning: Pass the following variable as a keyword arg: x. From version 0.12, the only valid positional argument will be `data`, and passing other arguments without an explicit keyword will result in an error or misinterpretation.\n",
      "  warnings.warn(\n"
     ]
    },
    {
     "data": {
      "text/plain": [
       "<AxesSubplot:xlabel='parental level of education', ylabel='count'>"
      ]
     },
     "execution_count": 14,
     "metadata": {},
     "output_type": "execute_result"
    },
    {
     "data": {
      "image/png": "[encoded data removed]",
      "text/plain": [
       "<Figure size 792x504 with 1 Axes>"
      ]
     },
     "metadata": {},
     "output_type": "display_data"
    }
   ],
   "source": [
    "sns.set(rc={'figure.figsize':(11,7)})\n",
    "sns.countplot(stu['parental level of education'])"
   ]
  },
  {
   "cell_type": "markdown",
   "id": "6c86a102",
   "metadata": {},
   "source": [
    "**Inference:**\n",
    "* Most of the student's parental level of education belongs to 'some college'.\n",
    "* Most acheived professional degree among the student's parental level of education is that of associate's degree.\n",
    "* Master's degree is the highest level of professional degree and is the least attained amongst the student's parents."
   ]
  },
  {
   "cell_type": "markdown",
   "id": "7d918e35",
   "metadata": {},
   "source": [
    "### Average scores of math, reading and writing based on the following:-"
   ]
  },
  {
   "cell_type": "markdown",
   "id": "4417f4ec",
   "metadata": {},
   "source": [
    "> **Based on gender**"
   ]
  },
  {
   "cell_type": "code",
   "execution_count": 10,
   "id": "5de2f31f",
   "metadata": {},
   "outputs": [
    {
     "data": {
      "text/plain": [
       "math score       68.821577\n",
       "reading score    65.545643\n",
       "writing score    63.446058\n",
       "dtype: float64"
      ]
     },
     "execution_count": 10,
     "metadata": {},
     "output_type": "execute_result"
    }
   ],
   "source": [
    "stu[(stu['gender'] == 'male')].mean()"
   ]
  },
  {
   "cell_type": "code",
   "execution_count": 11,
   "id": "82f07991",
   "metadata": {},
   "outputs": [
    {
     "data": {
      "text/plain": [
       "math score       63.376448\n",
       "reading score    72.590734\n",
       "writing score    72.467181\n",
       "dtype: float64"
      ]
     },
     "execution_count": 11,
     "metadata": {},
     "output_type": "execute_result"
    }
   ],
   "source": [
    "stu[(stu['gender'] == 'female')].mean()"
   ]
  },
  {
   "cell_type": "markdown",
   "id": "58cd54cc",
   "metadata": {},
   "source": [
    "**Inference:**\n",
    "\n",
    "* Males have a better average in math than Females. \n",
    "* Females have a better average in reading and writing than Males."
   ]
  },
  {
   "cell_type": "markdown",
   "id": "935062c3",
   "metadata": {},
   "source": [
    "> **Based on Test preparation course**"
   ]
  },
  {
   "cell_type": "code",
   "execution_count": 12,
   "id": "91c7a2ac",
   "metadata": {},
   "outputs": [
    {
     "data": {
      "text/plain": [
       "math score       63.789720\n",
       "reading score    66.417445\n",
       "writing score    64.457944\n",
       "dtype: float64"
      ]
     },
     "execution_count": 12,
     "metadata": {},
     "output_type": "execute_result"
    }
   ],
   "source": [
    "stu[(stu['test preparation course'] == 'none')].mean()"
   ]
  },
  {
   "cell_type": "code",
   "execution_count": 13,
   "id": "67ee0e2e",
   "metadata": {},
   "outputs": [
    {
     "data": {
      "text/plain": [
       "math score       69.966480\n",
       "reading score    74.175978\n",
       "writing score    74.684358\n",
       "dtype: float64"
      ]
     },
     "execution_count": 13,
     "metadata": {},
     "output_type": "execute_result"
    }
   ],
   "source": [
    "stu[(stu['test preparation course'] == 'completed')].mean()"
   ]
  },
  {
   "cell_type": "markdown",
   "id": "14048008",
   "metadata": {},
   "source": [
    "**Inference:**\n",
    "\n",
    "* Those students that have completed the test preparation course have better average scores in all three subjects as opposed to those that have not completed it.\n"
   ]
  },
  {
   "cell_type": "markdown",
   "id": "f5aebc0c",
   "metadata": {},
   "source": [
    "### Variations in scores for math, reading and writing based on the following:-"
   ]
  },
  {
   "cell_type": "markdown",
   "id": "bf3fde34",
   "metadata": {},
   "source": [
    "> **Based on gender**"
   ]
  },
  {
   "cell_type": "code",
   "execution_count": 16,
   "id": "1e88e05d",
   "metadata": {},
   "outputs": [
    {
     "data": {
      "text/plain": [
       "math score       14.556411\n",
       "reading score    14.149594\n",
       "writing score    14.227225\n",
       "dtype: float64"
      ]
     },
     "execution_count": 16,
     "metadata": {},
     "output_type": "execute_result"
    }
   ],
   "source": [
    "stu[(stu['gender'] == 'male')].std()"
   ]
  },
  {
   "cell_type": "code",
   "execution_count": 17,
   "id": "48cb1604",
   "metadata": {},
   "outputs": [
    {
     "data": {
      "text/plain": [
       "math score       16.029928\n",
       "reading score    14.411018\n",
       "writing score    14.844842\n",
       "dtype: float64"
      ]
     },
     "execution_count": 17,
     "metadata": {},
     "output_type": "execute_result"
    }
   ],
   "source": [
    "stu[(stu['gender'] == 'female')].std()"
   ]
  },
  {
   "cell_type": "markdown",
   "id": "2c371f74",
   "metadata": {},
   "source": [
    "**Inference:**\n",
    "\n",
    "* The standard deviations for math, reading, writing among the males that have participated in the test are high which indicates a high variablity among the scores. The math scores for males present with the highest form of variability. \n",
    "* The standard deviations for math, reading, writing among the females that have participated in the test are high which indicates a high variablity among the scores. The math scores for females present with significant scattering of scores when compared to the standard deviations of reading and writing. "
   ]
  },
  {
   "cell_type": "markdown",
   "id": "839a484e",
   "metadata": {},
   "source": [
    "> **Based on test preparation course**"
   ]
  },
  {
   "cell_type": "code",
   "execution_count": 18,
   "id": "309efb06",
   "metadata": {},
   "outputs": [
    {
     "data": {
      "text/plain": [
       "math score       14.521847\n",
       "reading score    13.537572\n",
       "writing score    13.236412\n",
       "dtype: float64"
      ]
     },
     "execution_count": 18,
     "metadata": {},
     "output_type": "execute_result"
    }
   ],
   "source": [
    "stu[(stu['test preparation course']) == 'completed'].std()"
   ]
  },
  {
   "cell_type": "code",
   "execution_count": 19,
   "id": "dd7bc4d1",
   "metadata": {},
   "outputs": [
    {
     "data": {
      "text/plain": [
       "math score       15.705689\n",
       "reading score    14.608896\n",
       "writing score    15.041667\n",
       "dtype: float64"
      ]
     },
     "execution_count": 19,
     "metadata": {},
     "output_type": "execute_result"
    }
   ],
   "source": [
    "stu[(stu['test preparation course']) == 'none'].std()"
   ]
  },
  {
   "cell_type": "markdown",
   "id": "8694139d",
   "metadata": {},
   "source": [
    "**Inference:**\n",
    "\n",
    "* The standard deviations for math, reading, writing among those that have participated in the test preparation course are high which indicates a high variablity among the scores. The math scores present with the highest form of variability and at the same time the preparation course helped the students to score better in writing.\n",
    "* The standard deviations for math, reading, writing among those that did not participate in the test preparation course are high which indicates a high variablity among the scores. The math scores present with the highest form of variability."
   ]
  },
  {
   "cell_type": "markdown",
   "id": "e0cb81bb",
   "metadata": {},
   "source": [
    "### Top 25% of students based on their math scores"
   ]
  },
  {
   "cell_type": "code",
   "execution_count": 20,
   "id": "9ff6d7fb",
   "metadata": {},
   "outputs": [
    {
     "data": {
      "text/plain": [
       "count    1000.000000\n",
       "mean       66.001000\n",
       "std        15.569567\n",
       "min         0.000000\n",
       "25%        57.000000\n",
       "50%        66.000000\n",
       "75%        77.000000\n",
       "max       100.000000\n",
       "Name: math score, dtype: float64"
      ]
     },
     "execution_count": 20,
     "metadata": {},
     "output_type": "execute_result"
    }
   ],
   "source": [
    "stu['math score'].describe()"
   ]
  },
  {
   "cell_type": "markdown",
   "id": "ab959311",
   "metadata": {},
   "source": [
    "**_From the above output we can see that the top 25% of the students have a math score of above 76._** "
   ]
  },
  {
   "cell_type": "code",
   "execution_count": 21,
   "id": "d4fed176",
   "metadata": {},
   "outputs": [
    {
     "data": {
      "text/html": [
       "<div>\n",
       "<style scoped>\n",
       "    .dataframe tbody tr th:only-of-type {\n",
       "        vertical-align: middle;\n",
       "    }\n",
       "\n",
       "    .dataframe tbody tr th {\n",
       "        vertical-align: top;\n",
       "    }\n",
       "\n",
       "    .dataframe thead th {\n",
       "        text-align: right;\n",
       "    }\n",
       "</style>\n",
       "<table border=\"1\" class=\"dataframe\">\n",
       "  <thead>\n",
       "    <tr style=\"text-align: right;\">\n",
       "      <th></th>\n",
       "      <th>gender</th>\n",
       "      <th>race/ethnicity</th>\n",
       "      <th>parental level of education</th>\n",
       "      <th>lunch</th>\n",
       "      <th>test preparation course</th>\n",
       "      <th>math score</th>\n",
       "      <th>reading score</th>\n",
       "      <th>writing score</th>\n",
       "    </tr>\n",
       "  </thead>\n",
       "  <tbody>\n",
       "    <tr>\n",
       "      <th>414</th>\n",
       "      <td>female</td>\n",
       "      <td>group A</td>\n",
       "      <td>high school</td>\n",
       "      <td>free/reduced</td>\n",
       "      <td>completed</td>\n",
       "      <td>77</td>\n",
       "      <td>88</td>\n",
       "      <td>85</td>\n",
       "    </tr>\n",
       "    <tr>\n",
       "      <th>415</th>\n",
       "      <td>female</td>\n",
       "      <td>group B</td>\n",
       "      <td>master's degree</td>\n",
       "      <td>free/reduced</td>\n",
       "      <td>completed</td>\n",
       "      <td>77</td>\n",
       "      <td>97</td>\n",
       "      <td>94</td>\n",
       "    </tr>\n",
       "    <tr>\n",
       "      <th>416</th>\n",
       "      <td>female</td>\n",
       "      <td>group B</td>\n",
       "      <td>bachelor's degree</td>\n",
       "      <td>free/reduced</td>\n",
       "      <td>none</td>\n",
       "      <td>77</td>\n",
       "      <td>85</td>\n",
       "      <td>87</td>\n",
       "    </tr>\n",
       "    <tr>\n",
       "      <th>417</th>\n",
       "      <td>female</td>\n",
       "      <td>group B</td>\n",
       "      <td>master's degree</td>\n",
       "      <td>standard</td>\n",
       "      <td>none</td>\n",
       "      <td>77</td>\n",
       "      <td>90</td>\n",
       "      <td>84</td>\n",
       "    </tr>\n",
       "    <tr>\n",
       "      <th>418</th>\n",
       "      <td>female</td>\n",
       "      <td>group B</td>\n",
       "      <td>high school</td>\n",
       "      <td>standard</td>\n",
       "      <td>completed</td>\n",
       "      <td>77</td>\n",
       "      <td>82</td>\n",
       "      <td>89</td>\n",
       "    </tr>\n",
       "    <tr>\n",
       "      <th>...</th>\n",
       "      <td>...</td>\n",
       "      <td>...</td>\n",
       "      <td>...</td>\n",
       "      <td>...</td>\n",
       "      <td>...</td>\n",
       "      <td>...</td>\n",
       "      <td>...</td>\n",
       "      <td>...</td>\n",
       "    </tr>\n",
       "    <tr>\n",
       "      <th>995</th>\n",
       "      <td>male</td>\n",
       "      <td>group E</td>\n",
       "      <td>some college</td>\n",
       "      <td>standard</td>\n",
       "      <td>completed</td>\n",
       "      <td>99</td>\n",
       "      <td>87</td>\n",
       "      <td>81</td>\n",
       "    </tr>\n",
       "    <tr>\n",
       "      <th>996</th>\n",
       "      <td>male</td>\n",
       "      <td>group A</td>\n",
       "      <td>some college</td>\n",
       "      <td>standard</td>\n",
       "      <td>completed</td>\n",
       "      <td>100</td>\n",
       "      <td>96</td>\n",
       "      <td>86</td>\n",
       "    </tr>\n",
       "    <tr>\n",
       "      <th>997</th>\n",
       "      <td>male</td>\n",
       "      <td>group D</td>\n",
       "      <td>some college</td>\n",
       "      <td>standard</td>\n",
       "      <td>completed</td>\n",
       "      <td>100</td>\n",
       "      <td>97</td>\n",
       "      <td>99</td>\n",
       "    </tr>\n",
       "    <tr>\n",
       "      <th>998</th>\n",
       "      <td>male</td>\n",
       "      <td>group E</td>\n",
       "      <td>associate's degree</td>\n",
       "      <td>free/reduced</td>\n",
       "      <td>completed</td>\n",
       "      <td>100</td>\n",
       "      <td>100</td>\n",
       "      <td>93</td>\n",
       "    </tr>\n",
       "    <tr>\n",
       "      <th>999</th>\n",
       "      <td>male</td>\n",
       "      <td>group E</td>\n",
       "      <td>bachelor's degree</td>\n",
       "      <td>standard</td>\n",
       "      <td>completed</td>\n",
       "      <td>100</td>\n",
       "      <td>100</td>\n",
       "      <td>100</td>\n",
       "    </tr>\n",
       "  </tbody>\n",
       "</table>\n",
       "<p>255 rows × 8 columns</p>\n",
       "</div>"
      ],
      "text/plain": [
       "     gender race/ethnicity parental level of education         lunch  \\\n",
       "414  female        group A                 high school  free/reduced   \n",
       "415  female        group B             master's degree  free/reduced   \n",
       "416  female        group B           bachelor's degree  free/reduced   \n",
       "417  female        group B             master's degree      standard   \n",
       "418  female        group B                 high school      standard   \n",
       "..      ...            ...                         ...           ...   \n",
       "995    male        group E                some college      standard   \n",
       "996    male        group A                some college      standard   \n",
       "997    male        group D                some college      standard   \n",
       "998    male        group E          associate's degree  free/reduced   \n",
       "999    male        group E           bachelor's degree      standard   \n",
       "\n",
       "    test preparation course  math score  reading score  writing score  \n",
       "414               completed          77             88             85  \n",
       "415               completed          77             97             94  \n",
       "416                    none          77             85             87  \n",
       "417                    none          77             90             84  \n",
       "418               completed          77             82             89  \n",
       "..                      ...         ...            ...            ...  \n",
       "995               completed          99             87             81  \n",
       "996               completed         100             96             86  \n",
       "997               completed         100             97             99  \n",
       "998               completed         100            100             93  \n",
       "999               completed         100            100            100  \n",
       "\n",
       "[255 rows x 8 columns]"
      ]
     },
     "execution_count": 21,
     "metadata": {},
     "output_type": "execute_result"
    }
   ],
   "source": [
    "stu[(stu['math score']) >= 77]"
   ]
  },
  {
   "cell_type": "markdown",
   "id": "afd12a4f",
   "metadata": {},
   "source": [
    "**_The above output shows the top 25% of students based on their math marks_**"
   ]
  },
  {
   "cell_type": "markdown",
   "id": "59849bdc",
   "metadata": {},
   "source": [
    "## Conclusions:\n",
    "\n",
    "> * There are more females than males that participated in the test.\n",
    "> * Most of the student's parental level of education is from 'some college'.\n",
    "> * The Master's degreee is the least acheived level of education among the parents.\n",
    "> * Males are better than Females at math while Females are better than Males at writing and reading.\n",
    "> * Those students that completed the test preparation course were able to perform better in the test.\n",
    "> * The top 25% of students in math have a minimum score of 77."
   ]
  }
 ],
 "metadata": {
  "kernelspec": {
   "display_name": "Python 3",
   "language": "python",
   "name": "python3"
  },
  "language_info": {
   "codemirror_mode": {
    "name": "ipython",
    "version": 3
   },
   "file_extension": ".py",
   "mimetype": "text/x-python",
   "name": "python",
   "nbconvert_exporter": "python",
   "pygments_lexer": "ipython3",
   "version": "3.8.8"
  }
 },
 "nbformat": 4,
 "nbformat_minor": 5
}
