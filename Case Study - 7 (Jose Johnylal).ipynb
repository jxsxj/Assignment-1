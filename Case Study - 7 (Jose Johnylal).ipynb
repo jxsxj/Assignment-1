{
 "cells": [
  {
   "cell_type": "markdown",
   "id": "c0de6072",
   "metadata": {},
   "source": [
    "# CASE STUDY 7 - Supervised Learning\n",
    "\n",
    "> Done by Jose Johnylal\n",
    "\n",
    "----"
   ]
  },
  {
   "cell_type": "code",
   "execution_count": 1,
   "id": "5666a9a7",
   "metadata": {},
   "outputs": [],
   "source": [
    "import numpy as np\n",
    "import pandas as pd\n",
    "import matplotlib.pyplot as plt\n",
    "import seaborn as sns"
   ]
  },
  {
   "cell_type": "markdown",
   "id": "64908700",
   "metadata": {},
   "source": [
    "##  Reading the dataset"
   ]
  },
  {
   "cell_type": "code",
   "execution_count": 2,
   "id": "7450da28",
   "metadata": {},
   "outputs": [],
   "source": [
    "iris = pd.read_excel('iris.xls')"
   ]
  },
  {
   "cell_type": "code",
   "execution_count": 3,
   "id": "e1bfdb80",
   "metadata": {},
   "outputs": [
    {
     "data": {
      "text/html": [
       "<div>\n",
       "<style scoped>\n",
       "    .dataframe tbody tr th:only-of-type {\n",
       "        vertical-align: middle;\n",
       "    }\n",
       "\n",
       "    .dataframe tbody tr th {\n",
       "        vertical-align: top;\n",
       "    }\n",
       "\n",
       "    .dataframe thead th {\n",
       "        text-align: right;\n",
       "    }\n",
       "</style>\n",
       "<table border=\"1\" class=\"dataframe\">\n",
       "  <thead>\n",
       "    <tr style=\"text-align: right;\">\n",
       "      <th></th>\n",
       "      <th>SL</th>\n",
       "      <th>SW</th>\n",
       "      <th>PL</th>\n",
       "      <th>PW</th>\n",
       "      <th>Classification</th>\n",
       "    </tr>\n",
       "  </thead>\n",
       "  <tbody>\n",
       "    <tr>\n",
       "      <th>0</th>\n",
       "      <td>5.1</td>\n",
       "      <td>3.5</td>\n",
       "      <td>1.4</td>\n",
       "      <td>0.2</td>\n",
       "      <td>Iris-setosa</td>\n",
       "    </tr>\n",
       "    <tr>\n",
       "      <th>1</th>\n",
       "      <td>4.9</td>\n",
       "      <td>3.0</td>\n",
       "      <td>1.4</td>\n",
       "      <td>0.2</td>\n",
       "      <td>Iris-setosa</td>\n",
       "    </tr>\n",
       "    <tr>\n",
       "      <th>2</th>\n",
       "      <td>NaN</td>\n",
       "      <td>3.2</td>\n",
       "      <td>1.3</td>\n",
       "      <td>0.2</td>\n",
       "      <td>Iris-setosa</td>\n",
       "    </tr>\n",
       "    <tr>\n",
       "      <th>3</th>\n",
       "      <td>4.6</td>\n",
       "      <td>3.1</td>\n",
       "      <td>1.5</td>\n",
       "      <td>0.2</td>\n",
       "      <td>Iris-setosa</td>\n",
       "    </tr>\n",
       "    <tr>\n",
       "      <th>4</th>\n",
       "      <td>5.0</td>\n",
       "      <td>3.6</td>\n",
       "      <td>1.4</td>\n",
       "      <td>0.2</td>\n",
       "      <td>Iris-setosa</td>\n",
       "    </tr>\n",
       "  </tbody>\n",
       "</table>\n",
       "</div>"
      ],
      "text/plain": [
       "    SL   SW   PL   PW Classification\n",
       "0  5.1  3.5  1.4  0.2    Iris-setosa\n",
       "1  4.9  3.0  1.4  0.2    Iris-setosa\n",
       "2  NaN  3.2  1.3  0.2    Iris-setosa\n",
       "3  4.6  3.1  1.5  0.2    Iris-setosa\n",
       "4  5.0  3.6  1.4  0.2    Iris-setosa"
      ]
     },
     "execution_count": 3,
     "metadata": {},
     "output_type": "execute_result"
    }
   ],
   "source": [
    "iris.head()"
   ]
  },
  {
   "cell_type": "code",
   "execution_count": 4,
   "id": "612c4e64",
   "metadata": {},
   "outputs": [
    {
     "data": {
      "text/plain": [
       "(150, 5)"
      ]
     },
     "execution_count": 4,
     "metadata": {},
     "output_type": "execute_result"
    }
   ],
   "source": [
    "iris.shape"
   ]
  },
  {
   "cell_type": "markdown",
   "id": "ada708b7",
   "metadata": {},
   "source": [
    "##  Pre-processing the dataset"
   ]
  },
  {
   "cell_type": "markdown",
   "id": "2f0867a8",
   "metadata": {},
   "source": [
    "### 1. Handling missing values if any"
   ]
  },
  {
   "cell_type": "code",
   "execution_count": 5,
   "id": "55012364",
   "metadata": {},
   "outputs": [
    {
     "data": {
      "text/plain": [
       "SL                7\n",
       "SW                6\n",
       "PL                6\n",
       "PW                0\n",
       "Classification    0\n",
       "dtype: int64"
      ]
     },
     "execution_count": 5,
     "metadata": {},
     "output_type": "execute_result"
    }
   ],
   "source": [
    "iris.isna().sum()"
   ]
  },
  {
   "cell_type": "markdown",
   "id": "d56a9880",
   "metadata": {},
   "source": [
    "**It is observed that there are missing values in three columns: SL, SW, PL**"
   ]
  },
  {
   "cell_type": "code",
   "execution_count": 6,
   "id": "2f9f3400",
   "metadata": {},
   "outputs": [
    {
     "data": {
      "image/png": "[encoded data removed]",
      "text/plain": [
       "<Figure size 1080x864 with 4 Axes>"
      ]
     },
     "metadata": {
      "needs_background": "light"
     },
     "output_type": "display_data"
    }
   ],
   "source": [
    "freqgraph = iris[['SL', 'SW', 'PL']]\n",
    "freqgraph.hist(figsize=(15,12))\n",
    "plt.show()"
   ]
  },
  {
   "cell_type": "markdown",
   "id": "7d8ed728",
   "metadata": {},
   "source": [
    "**Since all three columns are right skewed, we can fill the missing values with their respective column's median.**"
   ]
  },
  {
   "cell_type": "code",
   "execution_count": 7,
   "id": "ef12cc48",
   "metadata": {},
   "outputs": [],
   "source": [
    "iris['SL'] = iris['SL'].fillna(iris['SL'].median())\n",
    "iris['SW'] = iris['SW'].fillna(iris['SW'].median())\n",
    "iris['PL'] = iris['PL'].fillna(iris['PL'].median())"
   ]
  },
  {
   "cell_type": "code",
   "execution_count": 8,
   "id": "b21a39ee",
   "metadata": {},
   "outputs": [
    {
     "data": {
      "text/plain": [
       "SL                0\n",
       "SW                0\n",
       "PL                0\n",
       "PW                0\n",
       "Classification    0\n",
       "dtype: int64"
      ]
     },
     "execution_count": 8,
     "metadata": {},
     "output_type": "execute_result"
    }
   ],
   "source": [
    "iris.isna().sum()"
   ]
  },
  {
   "cell_type": "markdown",
   "id": "63429989",
   "metadata": {},
   "source": [
    "**Missing values have been handled successfully.**"
   ]
  },
  {
   "cell_type": "markdown",
   "id": "65bcec04",
   "metadata": {},
   "source": [
    "### 2. Handling outliers if any"
   ]
  },
  {
   "cell_type": "code",
   "execution_count": 9,
   "id": "b8ee83ef",
   "metadata": {},
   "outputs": [
    {
     "data": {
      "image/png": "[encoded data removed]",
      "text/plain": [
       "<Figure size 720x720 with 1 Axes>"
      ]
     },
     "metadata": {
      "needs_background": "light"
     },
     "output_type": "display_data"
    }
   ],
   "source": [
    "plt.figure(figsize=(10,10))\n",
    "iris.boxplot()\n",
    "plt.show()"
   ]
  },
  {
   "cell_type": "markdown",
   "id": "bad3cce1",
   "metadata": {},
   "source": [
    "**It is observed that SW has outliers.**"
   ]
  },
  {
   "cell_type": "code",
   "execution_count": 10,
   "id": "821f4e5c",
   "metadata": {},
   "outputs": [
    {
     "data": {
      "image/png": "[encoded data removed]",
      "text/plain": [
       "<Figure size 576x576 with 1 Axes>"
      ]
     },
     "metadata": {
      "needs_background": "light"
     },
     "output_type": "display_data"
    }
   ],
   "source": [
    "plt.figure(figsize=(8,8))\n",
    "plt.boxplot(iris['SW'])\n",
    "plt.title('Boxplot of SW before handling outliers')\n",
    "plt.show()"
   ]
  },
  {
   "cell_type": "code",
   "execution_count": 11,
   "id": "e5ad0dc1",
   "metadata": {},
   "outputs": [],
   "source": [
    "Q1 = np.percentile(iris['SW'], 25, interpolation='midpoint')\n",
    "Q2 = np.percentile(iris['SW'], 50, interpolation='midpoint')\n",
    "Q3 = np.percentile(iris['SW'], 75, interpolation='midpoint')\n",
    "IQR = Q3 - Q1\n",
    "low_lim = Q1 - 1.5*IQR\n",
    "up_lim = Q3 + 1.5*IQR"
   ]
  },
  {
   "cell_type": "code",
   "execution_count": 12,
   "id": "2a55eaba",
   "metadata": {},
   "outputs": [
    {
     "data": {
      "text/plain": [
       "(Int64Index([14, 15, 32, 33], dtype='int64'), Int64Index([60], dtype='int64'))"
      ]
     },
     "execution_count": 12,
     "metadata": {},
     "output_type": "execute_result"
    }
   ],
   "source": [
    "ind = iris['SW'] > up_lim \n",
    "ind1 = iris['SW'] < low_lim\n",
    "iris.loc[ind].index, iris.loc[ind1].index"
   ]
  },
  {
   "cell_type": "code",
   "execution_count": 13,
   "id": "1a69dbd5",
   "metadata": {},
   "outputs": [],
   "source": [
    "iris.drop([14, 15, 32, 33, 60], inplace = True)"
   ]
  },
  {
   "cell_type": "code",
   "execution_count": 14,
   "id": "335c30f2",
   "metadata": {},
   "outputs": [
    {
     "data": {
      "image/png": "[encoded data removed]",
      "text/plain": [
       "<Figure size 576x576 with 1 Axes>"
      ]
     },
     "metadata": {
      "needs_background": "light"
     },
     "output_type": "display_data"
    }
   ],
   "source": [
    "plt.figure(figsize=(8,8))\n",
    "plt.boxplot(iris['SW'])\n",
    "plt.title('Boxplot of SW after handling outliers')\n",
    "plt.show()"
   ]
  },
  {
   "cell_type": "markdown",
   "id": "4caa6a6f",
   "metadata": {},
   "source": [
    "**Outliers in SW have been handled successfully.**"
   ]
  },
  {
   "cell_type": "markdown",
   "id": "09efe30d",
   "metadata": {},
   "source": [
    "### 3. Encoding if needed"
   ]
  },
  {
   "cell_type": "code",
   "execution_count": 15,
   "id": "f032a218",
   "metadata": {},
   "outputs": [
    {
     "name": "stdout",
     "output_type": "stream",
     "text": [
      "<class 'pandas.core.frame.DataFrame'>\n",
      "Int64Index: 145 entries, 0 to 149\n",
      "Data columns (total 5 columns):\n",
      " #   Column          Non-Null Count  Dtype  \n",
      "---  ------          --------------  -----  \n",
      " 0   SL              145 non-null    float64\n",
      " 1   SW              145 non-null    float64\n",
      " 2   PL              145 non-null    float64\n",
      " 3   PW              145 non-null    float64\n",
      " 4   Classification  145 non-null    object \n",
      "dtypes: float64(4), object(1)\n",
      "memory usage: 6.8+ KB\n"
     ]
    }
   ],
   "source": [
    "iris.info()"
   ]
  },
  {
   "cell_type": "markdown",
   "id": "a15e9157",
   "metadata": {},
   "source": [
    "**Since all the columns that are going to be in the feature set are numerical (SL, SW, PL, PW), encoding is not required.**"
   ]
  },
  {
   "cell_type": "markdown",
   "id": "e9be1275",
   "metadata": {},
   "source": [
    "### 4. Scaling if needed"
   ]
  },
  {
   "cell_type": "markdown",
   "id": "48edbc81",
   "metadata": {},
   "source": [
    "**Prior to scaling, separation of the feature set and the target variable is done.**"
   ]
  },
  {
   "cell_type": "code",
   "execution_count": 16,
   "id": "2f38622f",
   "metadata": {},
   "outputs": [],
   "source": [
    "X = iris.drop('Classification', axis=1)\n",
    "y = iris['Classification']"
   ]
  },
  {
   "cell_type": "markdown",
   "id": "6bcbdb86",
   "metadata": {},
   "source": [
    "**Creating train-test split (80/20)**"
   ]
  },
  {
   "cell_type": "code",
   "execution_count": 17,
   "id": "98e4e697",
   "metadata": {},
   "outputs": [],
   "source": [
    "from sklearn.model_selection import train_test_split\n",
    "X_train, X_test, y_train, y_test = train_test_split(X, y, random_state=42, test_size=0.2)"
   ]
  },
  {
   "cell_type": "markdown",
   "id": "eec6ac98",
   "metadata": {},
   "source": [
    "**Checking if 'X_test' and 'X_train' require scaling**"
   ]
  },
  {
   "cell_type": "code",
   "execution_count": 18,
   "id": "ff45c094",
   "metadata": {},
   "outputs": [
    {
     "data": {
      "text/html": [
       "<div>\n",
       "<style scoped>\n",
       "    .dataframe tbody tr th:only-of-type {\n",
       "        vertical-align: middle;\n",
       "    }\n",
       "\n",
       "    .dataframe tbody tr th {\n",
       "        vertical-align: top;\n",
       "    }\n",
       "\n",
       "    .dataframe thead th {\n",
       "        text-align: right;\n",
       "    }\n",
       "</style>\n",
       "<table border=\"1\" class=\"dataframe\">\n",
       "  <thead>\n",
       "    <tr style=\"text-align: right;\">\n",
       "      <th></th>\n",
       "      <th>SL</th>\n",
       "      <th>SW</th>\n",
       "      <th>PL</th>\n",
       "      <th>PW</th>\n",
       "    </tr>\n",
       "  </thead>\n",
       "  <tbody>\n",
       "    <tr>\n",
       "      <th>count</th>\n",
       "      <td>29.000000</td>\n",
       "      <td>29.000000</td>\n",
       "      <td>29.000000</td>\n",
       "      <td>29.000000</td>\n",
       "    </tr>\n",
       "    <tr>\n",
       "      <th>mean</th>\n",
       "      <td>5.910345</td>\n",
       "      <td>3.044828</td>\n",
       "      <td>3.896552</td>\n",
       "      <td>1.231034</td>\n",
       "    </tr>\n",
       "    <tr>\n",
       "      <th>std</th>\n",
       "      <td>0.906069</td>\n",
       "      <td>0.405838</td>\n",
       "      <td>1.833903</td>\n",
       "      <td>0.761157</td>\n",
       "    </tr>\n",
       "    <tr>\n",
       "      <th>min</th>\n",
       "      <td>4.700000</td>\n",
       "      <td>2.400000</td>\n",
       "      <td>1.200000</td>\n",
       "      <td>0.100000</td>\n",
       "    </tr>\n",
       "    <tr>\n",
       "      <th>25%</th>\n",
       "      <td>5.200000</td>\n",
       "      <td>2.800000</td>\n",
       "      <td>1.600000</td>\n",
       "      <td>0.300000</td>\n",
       "    </tr>\n",
       "    <tr>\n",
       "      <th>50%</th>\n",
       "      <td>5.800000</td>\n",
       "      <td>3.000000</td>\n",
       "      <td>4.300000</td>\n",
       "      <td>1.300000</td>\n",
       "    </tr>\n",
       "    <tr>\n",
       "      <th>75%</th>\n",
       "      <td>6.300000</td>\n",
       "      <td>3.300000</td>\n",
       "      <td>5.100000</td>\n",
       "      <td>1.800000</td>\n",
       "    </tr>\n",
       "    <tr>\n",
       "      <th>max</th>\n",
       "      <td>7.900000</td>\n",
       "      <td>3.800000</td>\n",
       "      <td>6.700000</td>\n",
       "      <td>2.300000</td>\n",
       "    </tr>\n",
       "  </tbody>\n",
       "</table>\n",
       "</div>"
      ],
      "text/plain": [
       "              SL         SW         PL         PW\n",
       "count  29.000000  29.000000  29.000000  29.000000\n",
       "mean    5.910345   3.044828   3.896552   1.231034\n",
       "std     0.906069   0.405838   1.833903   0.761157\n",
       "min     4.700000   2.400000   1.200000   0.100000\n",
       "25%     5.200000   2.800000   1.600000   0.300000\n",
       "50%     5.800000   3.000000   4.300000   1.300000\n",
       "75%     6.300000   3.300000   5.100000   1.800000\n",
       "max     7.900000   3.800000   6.700000   2.300000"
      ]
     },
     "execution_count": 18,
     "metadata": {},
     "output_type": "execute_result"
    }
   ],
   "source": [
    "X_test.describe()"
   ]
  },
  {
   "cell_type": "code",
   "execution_count": 19,
   "id": "8836bf09",
   "metadata": {
    "scrolled": true
   },
   "outputs": [
    {
     "data": {
      "text/html": [
       "<div>\n",
       "<style scoped>\n",
       "    .dataframe tbody tr th:only-of-type {\n",
       "        vertical-align: middle;\n",
       "    }\n",
       "\n",
       "    .dataframe tbody tr th {\n",
       "        vertical-align: top;\n",
       "    }\n",
       "\n",
       "    .dataframe thead th {\n",
       "        text-align: right;\n",
       "    }\n",
       "</style>\n",
       "<table border=\"1\" class=\"dataframe\">\n",
       "  <thead>\n",
       "    <tr style=\"text-align: right;\">\n",
       "      <th></th>\n",
       "      <th>SL</th>\n",
       "      <th>SW</th>\n",
       "      <th>PL</th>\n",
       "      <th>PW</th>\n",
       "    </tr>\n",
       "  </thead>\n",
       "  <tbody>\n",
       "    <tr>\n",
       "      <th>count</th>\n",
       "      <td>116.000000</td>\n",
       "      <td>116.000000</td>\n",
       "      <td>116.000000</td>\n",
       "      <td>116.000000</td>\n",
       "    </tr>\n",
       "    <tr>\n",
       "      <th>mean</th>\n",
       "      <td>5.856897</td>\n",
       "      <td>3.018103</td>\n",
       "      <td>3.835345</td>\n",
       "      <td>1.225862</td>\n",
       "    </tr>\n",
       "    <tr>\n",
       "      <th>std</th>\n",
       "      <td>0.796866</td>\n",
       "      <td>0.367743</td>\n",
       "      <td>1.688658</td>\n",
       "      <td>0.760791</td>\n",
       "    </tr>\n",
       "    <tr>\n",
       "      <th>min</th>\n",
       "      <td>4.300000</td>\n",
       "      <td>2.200000</td>\n",
       "      <td>1.000000</td>\n",
       "      <td>0.100000</td>\n",
       "    </tr>\n",
       "    <tr>\n",
       "      <th>25%</th>\n",
       "      <td>5.175000</td>\n",
       "      <td>2.800000</td>\n",
       "      <td>1.600000</td>\n",
       "      <td>0.300000</td>\n",
       "    </tr>\n",
       "    <tr>\n",
       "      <th>50%</th>\n",
       "      <td>5.800000</td>\n",
       "      <td>3.000000</td>\n",
       "      <td>4.375000</td>\n",
       "      <td>1.350000</td>\n",
       "    </tr>\n",
       "    <tr>\n",
       "      <th>75%</th>\n",
       "      <td>6.400000</td>\n",
       "      <td>3.200000</td>\n",
       "      <td>5.100000</td>\n",
       "      <td>1.800000</td>\n",
       "    </tr>\n",
       "    <tr>\n",
       "      <th>max</th>\n",
       "      <td>7.700000</td>\n",
       "      <td>3.900000</td>\n",
       "      <td>6.900000</td>\n",
       "      <td>2.500000</td>\n",
       "    </tr>\n",
       "  </tbody>\n",
       "</table>\n",
       "</div>"
      ],
      "text/plain": [
       "               SL          SW          PL          PW\n",
       "count  116.000000  116.000000  116.000000  116.000000\n",
       "mean     5.856897    3.018103    3.835345    1.225862\n",
       "std      0.796866    0.367743    1.688658    0.760791\n",
       "min      4.300000    2.200000    1.000000    0.100000\n",
       "25%      5.175000    2.800000    1.600000    0.300000\n",
       "50%      5.800000    3.000000    4.375000    1.350000\n",
       "75%      6.400000    3.200000    5.100000    1.800000\n",
       "max      7.700000    3.900000    6.900000    2.500000"
      ]
     },
     "execution_count": 19,
     "metadata": {},
     "output_type": "execute_result"
    }
   ],
   "source": [
    "X_train.describe()"
   ]
  },
  {
   "cell_type": "markdown",
   "id": "c6c9b283",
   "metadata": {},
   "source": [
    "**It is observed that standard scaling needs to be done on both sets.**"
   ]
  },
  {
   "cell_type": "code",
   "execution_count": 20,
   "id": "4033dd71",
   "metadata": {},
   "outputs": [],
   "source": [
    "from sklearn.preprocessing import StandardScaler\n",
    "scaler = StandardScaler()\n",
    "X_train = scaler.fit_transform(X_train)\n",
    "X_test = scaler.fit_transform(X_test)"
   ]
  },
  {
   "cell_type": "markdown",
   "id": "f17591d2",
   "metadata": {},
   "source": [
    "### The dataset has been pre-processed and is ready for creating classification models."
   ]
  },
  {
   "cell_type": "markdown",
   "id": "40e85ef7",
   "metadata": {},
   "source": [
    "##  Determining which classification model is best"
   ]
  },
  {
   "cell_type": "code",
   "execution_count": 21,
   "id": "8b8053cc",
   "metadata": {},
   "outputs": [
    {
     "data": {
      "text/plain": [
       "Iris-virginica     50\n",
       "Iris-versicolor    49\n",
       "Iris-setosa        46\n",
       "Name: Classification, dtype: int64"
      ]
     },
     "execution_count": 21,
     "metadata": {},
     "output_type": "execute_result"
    }
   ],
   "source": [
    "iris['Classification'].value_counts()"
   ]
  },
  {
   "cell_type": "markdown",
   "id": "8746e0f4",
   "metadata": {},
   "source": [
    "**Since the target variable has multi-class classification, the following supervised classification techniques are used:**\n",
    "\n",
    "* k-Nearest Neighbors\n",
    "* Support Vector Machines (Linear, Polynomial, Radial)\n",
    "* Decision Tree\n",
    "* Random Forest"
   ]
  },
  {
   "cell_type": "markdown",
   "id": "c2aee590",
   "metadata": {},
   "source": [
    "### 1. k-Nearest Neighbors"
   ]
  },
  {
   "cell_type": "code",
   "execution_count": 22,
   "id": "520e5a9f",
   "metadata": {},
   "outputs": [],
   "source": [
    "from sklearn.metrics import confusion_matrix, accuracy_score, f1_score\n",
    "from sklearn.neighbors import KNeighborsClassifier\n",
    "acc_values = []\n",
    "neighbors = np.arange(3,15)\n",
    "for k in neighbors:\n",
    "    classifier = KNeighborsClassifier(n_neighbors=k, metric='minkowski')\n",
    "    classifier.fit(X_train, y_train)\n",
    "    y_pred = classifier.predict(X_test)\n",
    "    acc = accuracy_score(y_test, y_pred)\n",
    "    acc_values.append(acc)"
   ]
  },
  {
   "cell_type": "code",
   "execution_count": 23,
   "id": "dbb1d9d1",
   "metadata": {},
   "outputs": [
    {
     "data": {
      "text/plain": [
       "Text(0, 0.5, 'accuracy')"
      ]
     },
     "execution_count": 23,
     "metadata": {},
     "output_type": "execute_result"
    },
    {
     "data": {
      "image/png": "[encoded data removed]",
      "text/plain": [
       "<Figure size 432x288 with 1 Axes>"
      ]
     },
     "metadata": {
      "needs_background": "light"
     },
     "output_type": "display_data"
    }
   ],
   "source": [
    "plt.plot(neighbors, acc_values, 'o-')\n",
    "plt.xlabel('k value')\n",
    "plt.ylabel('accuracy')"
   ]
  },
  {
   "cell_type": "markdown",
   "id": "1299c831",
   "metadata": {},
   "source": [
    "It is observed that k=3 has the highst accuracy."
   ]
  },
  {
   "cell_type": "markdown",
   "id": "a2a939d7",
   "metadata": {},
   "source": [
    "**Final k-NN model with k=3**"
   ]
  },
  {
   "cell_type": "code",
   "execution_count": 24,
   "id": "ab1697c9",
   "metadata": {},
   "outputs": [],
   "source": [
    "classifier = KNeighborsClassifier(n_neighbors=3, metric='minkowski')\n",
    "classifier.fit(X_train, y_train)\n",
    "y_pred_knn = classifier.predict(X_test)"
   ]
  },
  {
   "cell_type": "code",
   "execution_count": 25,
   "id": "2afe5e17",
   "metadata": {},
   "outputs": [
    {
     "name": "stdout",
     "output_type": "stream",
     "text": [
      "Accuracy score:  0.9310344827586207\n"
     ]
    }
   ],
   "source": [
    "print('Accuracy score: ', accuracy_score(y_test, y_pred_knn))"
   ]
  },
  {
   "cell_type": "markdown",
   "id": "ceed7373",
   "metadata": {},
   "source": [
    "### 2. Support Vector Machines"
   ]
  },
  {
   "cell_type": "markdown",
   "id": "d3573716",
   "metadata": {},
   "source": [
    "#### 2.1 Linear SVM"
   ]
  },
  {
   "cell_type": "code",
   "execution_count": 26,
   "id": "ad2e5072",
   "metadata": {},
   "outputs": [],
   "source": [
    "from sklearn.svm import SVC \n",
    "svm_linear = SVC(kernel = 'linear')\n",
    "svm_linear.fit(X_train, y_train)\n",
    "y_pred_slinear = svm_linear.predict(X_test)"
   ]
  },
  {
   "cell_type": "code",
   "execution_count": 27,
   "id": "938fe32c",
   "metadata": {},
   "outputs": [
    {
     "name": "stdout",
     "output_type": "stream",
     "text": [
      "Accuracy score:  0.9310344827586207\n"
     ]
    }
   ],
   "source": [
    "print('Accuracy score: ', accuracy_score(y_test, y_pred_slinear))"
   ]
  },
  {
   "cell_type": "markdown",
   "id": "a23b51ed",
   "metadata": {},
   "source": [
    "#### 2.2 Polynomial SVM"
   ]
  },
  {
   "cell_type": "code",
   "execution_count": 28,
   "id": "56155289",
   "metadata": {},
   "outputs": [],
   "source": [
    "acc_values = []\n",
    "deg = np.arange(2,15)\n",
    "for k in deg:\n",
    "    svm_poly = SVC(kernel = 'poly', degree=k)\n",
    "    svm_poly.fit(X_train, y_train)\n",
    "    y_pred_poly = svm_poly.predict(X_test)\n",
    "    acc = accuracy_score(y_test, y_pred_poly)\n",
    "    acc_values.append(acc)"
   ]
  },
  {
   "cell_type": "code",
   "execution_count": 29,
   "id": "121a98ca",
   "metadata": {},
   "outputs": [
    {
     "data": {
      "text/plain": [
       "Text(0, 0.5, 'accuracy')"
      ]
     },
     "execution_count": 29,
     "metadata": {},
     "output_type": "execute_result"
    },
    {
     "data": {
      "image/png": "[encoded data removed]",
      "text/plain": [
       "<Figure size 432x288 with 1 Axes>"
      ]
     },
     "metadata": {
      "needs_background": "light"
     },
     "output_type": "display_data"
    }
   ],
   "source": [
    "plt.plot(deg, acc_values, 'o-')\n",
    "plt.xlabel('degree')\n",
    "plt.ylabel('accuracy')"
   ]
  },
  {
   "cell_type": "markdown",
   "id": "e07bf198",
   "metadata": {},
   "source": [
    "It is observed that degree=3 for the polynomial SVM yields the highest accuracy"
   ]
  },
  {
   "cell_type": "markdown",
   "id": "f18b5bc7",
   "metadata": {},
   "source": [
    "**Final Polynomial SVM model with degree=3**"
   ]
  },
  {
   "cell_type": "code",
   "execution_count": 30,
   "id": "5f83070c",
   "metadata": {},
   "outputs": [
    {
     "name": "stdout",
     "output_type": "stream",
     "text": [
      "Accuracy score:  0.8620689655172413\n"
     ]
    }
   ],
   "source": [
    "svm_poly = SVC(kernel = 'poly', degree=3)\n",
    "svm_poly.fit(X_train, y_train)\n",
    "y_pred_poly = svm_poly.predict(X_test)\n",
    "print('Accuracy score: ', accuracy_score(y_test, y_pred_poly))"
   ]
  },
  {
   "cell_type": "markdown",
   "id": "7f4d5526",
   "metadata": {},
   "source": [
    "#### 2.3 Radial SVM"
   ]
  },
  {
   "cell_type": "code",
   "execution_count": 31,
   "id": "9a50479b",
   "metadata": {},
   "outputs": [
    {
     "name": "stdout",
     "output_type": "stream",
     "text": [
      "Accuracy score:  0.9310344827586207\n"
     ]
    }
   ],
   "source": [
    "svm_radial = SVC(kernel = 'rbf')\n",
    "svm_radial.fit(X_train, y_train)\n",
    "y_pred_radial = svm_radial.predict(X_test)\n",
    "print('Accuracy score: ', accuracy_score(y_test, y_pred_radial))"
   ]
  },
  {
   "cell_type": "markdown",
   "id": "0f761d1f",
   "metadata": {},
   "source": [
    "### 3. Decision tree"
   ]
  },
  {
   "cell_type": "code",
   "execution_count": 32,
   "id": "e1291c89",
   "metadata": {},
   "outputs": [],
   "source": [
    "from sklearn.tree import DecisionTreeClassifier\n",
    "dt_model = DecisionTreeClassifier()"
   ]
  },
  {
   "cell_type": "code",
   "execution_count": 33,
   "id": "1a267834",
   "metadata": {
    "scrolled": true
   },
   "outputs": [
    {
     "name": "stdout",
     "output_type": "stream",
     "text": [
      "Accuracy score:  0.896551724137931\n"
     ]
    }
   ],
   "source": [
    "dt_model.fit(X_train, y_train)\n",
    "y_pred_dt = dt_model.predict(X_test)\n",
    "print('Accuracy score: ', accuracy_score(y_test, y_pred_dt))"
   ]
  },
  {
   "cell_type": "markdown",
   "id": "2ab68af6",
   "metadata": {},
   "source": [
    "### 4. Random Forest"
   ]
  },
  {
   "cell_type": "code",
   "execution_count": 34,
   "id": "22dcf74b",
   "metadata": {},
   "outputs": [],
   "source": [
    "from sklearn.ensemble import RandomForestClassifier\n",
    "rf = RandomForestClassifier()"
   ]
  },
  {
   "cell_type": "code",
   "execution_count": 35,
   "id": "f7f0cd4e",
   "metadata": {
    "scrolled": true
   },
   "outputs": [
    {
     "name": "stdout",
     "output_type": "stream",
     "text": [
      "Accuracy score:  0.8620689655172413\n"
     ]
    }
   ],
   "source": [
    "rf.fit(X_train, y_train)\n",
    "y_pred_rf = rf.predict(X_test)\n",
    "print('Accuracy score: ', accuracy_score(y_test, y_pred_rf))"
   ]
  },
  {
   "cell_type": "markdown",
   "id": "490cbadb",
   "metadata": {},
   "source": [
    "#### FINAL OBSERVATIONS:"
   ]
  },
  {
   "cell_type": "code",
   "execution_count": 36,
   "id": "41076ce4",
   "metadata": {},
   "outputs": [
    {
     "name": "stdout",
     "output_type": "stream",
     "text": [
      "Accuracy score of k-NN classifier with k=3 :       0.9310344827586207\n",
      "Accuracy score of linear SVM:                      0.9310344827586207\n",
      "Accuracy score of polynomial SVM with degree=3 :   0.8620689655172413\n",
      "Accuracy score of radial SVM:                      0.9310344827586207\n",
      "Accuracy score of Decision tree:                   0.896551724137931\n",
      "Accuracy score of Random Forest Algorithm:         0.8620689655172413\n"
     ]
    }
   ],
   "source": [
    "print('Accuracy score of k-NN classifier with k=3 :      ', accuracy_score(y_test, y_pred_knn))\n",
    "print('Accuracy score of linear SVM:                     ', accuracy_score(y_test, y_pred_slinear))\n",
    "print('Accuracy score of polynomial SVM with degree=3 :  ', accuracy_score(y_test, y_pred_poly))\n",
    "print('Accuracy score of radial SVM:                     ', accuracy_score(y_test, y_pred_radial))\n",
    "print('Accuracy score of Decision tree:                  ', accuracy_score(y_test, y_pred_dt))\n",
    "print('Accuracy score of Random Forest Algorithm:        ', accuracy_score(y_test, y_pred_rf))"
   ]
  },
  {
   "cell_type": "markdown",
   "id": "eb10dac4",
   "metadata": {},
   "source": [
    "## Conclusions:\n",
    "\n",
    "> * k-NN classifier, linear & radial SVMs provide the best result to predict the iris species. \n",
    "> * Three supervised learning techniques have been identified as best with an accuracy score of 93.1 % for each."
   ]
  }
 ],
 "metadata": {
  "kernelspec": {
   "display_name": "Python 3",
   "language": "python",
   "name": "python3"
  },
  "language_info": {
   "codemirror_mode": {
    "name": "ipython",
    "version": 3
   },
   "file_extension": ".py",
   "mimetype": "text/x-python",
   "name": "python",
   "nbconvert_exporter": "python",
   "pygments_lexer": "ipython3",
   "version": "3.8.8"
  }
 },
 "nbformat": 4,
 "nbformat_minor": 5
}
