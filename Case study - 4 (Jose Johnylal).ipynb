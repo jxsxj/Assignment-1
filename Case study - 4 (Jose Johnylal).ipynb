{
 "cells": [
  {
   "cell_type": "markdown",
   "id": "f60a6859",
   "metadata": {},
   "source": [
    "# CASE STUDY 4 - HYPOTHESIS TESTING\n",
    "\n",
    "> Done by Jose Johnylal\n",
    "\n",
    "----"
   ]
  },
  {
   "cell_type": "code",
   "execution_count": 1,
   "id": "bc942f0e",
   "metadata": {},
   "outputs": [],
   "source": [
    "import numpy as np\n",
    "import pandas as pd\n",
    "import matplotlib.pyplot as plt\n",
    "import seaborn as sns\n",
    "import math"
   ]
  },
  {
   "cell_type": "code",
   "execution_count": 2,
   "id": "1b914d18",
   "metadata": {},
   "outputs": [],
   "source": [
    "sale = pd.read_csv('Sales_add.csv')"
   ]
  },
  {
   "cell_type": "code",
   "execution_count": 3,
   "id": "a814b7b9",
   "metadata": {},
   "outputs": [
    {
     "data": {
      "text/html": [
       "<div>\n",
       "<style scoped>\n",
       "    .dataframe tbody tr th:only-of-type {\n",
       "        vertical-align: middle;\n",
       "    }\n",
       "\n",
       "    .dataframe tbody tr th {\n",
       "        vertical-align: top;\n",
       "    }\n",
       "\n",
       "    .dataframe thead th {\n",
       "        text-align: right;\n",
       "    }\n",
       "</style>\n",
       "<table border=\"1\" class=\"dataframe\">\n",
       "  <thead>\n",
       "    <tr style=\"text-align: right;\">\n",
       "      <th></th>\n",
       "      <th>Month</th>\n",
       "      <th>Region</th>\n",
       "      <th>Manager</th>\n",
       "      <th>Sales_before_digital_add(in $)</th>\n",
       "      <th>Sales_After_digital_add(in $)</th>\n",
       "    </tr>\n",
       "  </thead>\n",
       "  <tbody>\n",
       "    <tr>\n",
       "      <th>0</th>\n",
       "      <td>Month-1</td>\n",
       "      <td>Region - A</td>\n",
       "      <td>Manager - A</td>\n",
       "      <td>132921</td>\n",
       "      <td>270390</td>\n",
       "    </tr>\n",
       "    <tr>\n",
       "      <th>1</th>\n",
       "      <td>Month-2</td>\n",
       "      <td>Region - A</td>\n",
       "      <td>Manager - C</td>\n",
       "      <td>149559</td>\n",
       "      <td>223334</td>\n",
       "    </tr>\n",
       "    <tr>\n",
       "      <th>2</th>\n",
       "      <td>Month-3</td>\n",
       "      <td>Region - B</td>\n",
       "      <td>Manager - A</td>\n",
       "      <td>146278</td>\n",
       "      <td>244243</td>\n",
       "    </tr>\n",
       "    <tr>\n",
       "      <th>3</th>\n",
       "      <td>Month-4</td>\n",
       "      <td>Region - B</td>\n",
       "      <td>Manager - B</td>\n",
       "      <td>152167</td>\n",
       "      <td>231808</td>\n",
       "    </tr>\n",
       "    <tr>\n",
       "      <th>4</th>\n",
       "      <td>Month-5</td>\n",
       "      <td>Region - C</td>\n",
       "      <td>Manager - B</td>\n",
       "      <td>159525</td>\n",
       "      <td>258402</td>\n",
       "    </tr>\n",
       "  </tbody>\n",
       "</table>\n",
       "</div>"
      ],
      "text/plain": [
       "     Month      Region      Manager  Sales_before_digital_add(in $)  \\\n",
       "0  Month-1  Region - A  Manager - A                          132921   \n",
       "1  Month-2  Region - A  Manager - C                          149559   \n",
       "2  Month-3  Region - B  Manager - A                          146278   \n",
       "3  Month-4  Region - B  Manager - B                          152167   \n",
       "4  Month-5  Region - C  Manager - B                          159525   \n",
       "\n",
       "   Sales_After_digital_add(in $)  \n",
       "0                         270390  \n",
       "1                         223334  \n",
       "2                         244243  \n",
       "3                         231808  \n",
       "4                         258402  "
      ]
     },
     "execution_count": 3,
     "metadata": {},
     "output_type": "execute_result"
    }
   ],
   "source": [
    "sale.head()"
   ]
  },
  {
   "cell_type": "code",
   "execution_count": 4,
   "id": "e07f3566",
   "metadata": {},
   "outputs": [
    {
     "data": {
      "text/plain": [
       "Month                             0\n",
       "Region                            0\n",
       "Manager                           0\n",
       "Sales_before_digital_add(in $)    0\n",
       "Sales_After_digital_add(in $)     0\n",
       "dtype: int64"
      ]
     },
     "execution_count": 4,
     "metadata": {},
     "output_type": "execute_result"
    }
   ],
   "source": [
    "sale.isna().sum()"
   ]
  },
  {
   "cell_type": "markdown",
   "id": "aa9d8638",
   "metadata": {},
   "source": [
    "##  Is there any increase in sales after stepping into digital marketing?"
   ]
  },
  {
   "cell_type": "markdown",
   "id": "04fd97f4",
   "metadata": {},
   "source": [
    "#### Background research on the dataset\n",
    " "
   ]
  },
  {
   "cell_type": "code",
   "execution_count": 5,
   "id": "7816de22",
   "metadata": {},
   "outputs": [
    {
     "data": {
      "text/plain": [
       "(22, 5)"
      ]
     },
     "execution_count": 5,
     "metadata": {},
     "output_type": "execute_result"
    }
   ],
   "source": [
    "sale.shape"
   ]
  },
  {
   "cell_type": "markdown",
   "id": "08fc759e",
   "metadata": {},
   "source": [
    "* Observations \n",
    "    - We see that there are two columns that need to be compared to answer the question. \n",
    "    - **Sales_before_digital_add** and **Sales_After_digital_add**  are the columns that is needed to answer the question.\n",
    "    - Each column is a group that is independent of the other.\n",
    "    - Each group has 22 rows.\n",
    "    - There are no null values present in the dataset."
   ]
  },
  {
   "cell_type": "markdown",
   "id": "6a6ab6d8",
   "metadata": {},
   "source": [
    "#### Constructing the hypothesis"
   ]
  },
  {
   "cell_type": "markdown",
   "id": "58deeef7",
   "metadata": {},
   "source": [
    "  > * **Null Hypothesis:** There is no change between the means of the columns, i.e., x1 = x2\n",
    "  > * **Alternate Hypothesis:** There is a change between the means of the columns, i.e., x1 is less than x2"
   ]
  },
  {
   "cell_type": "markdown",
   "id": "13a9af0b",
   "metadata": {},
   "source": [
    "Note:- **x1** refers to the mean of 'Sales_before_digital_add' and **x2** refers to the mean of 'Sales_After_digital_add'"
   ]
  },
  {
   "cell_type": "markdown",
   "id": "c7ca4ba6",
   "metadata": {},
   "source": [
    "#### Testing the hypothesis with an experiment"
   ]
  },
  {
   "cell_type": "markdown",
   "id": "54e593bc",
   "metadata": {},
   "source": [
    "Since the sample size for each group is less than 30 we should conduct a **one tailed two sample independent t-test.**"
   ]
  },
  {
   "cell_type": "markdown",
   "id": "a456d0a0",
   "metadata": {},
   "source": [
    "Degree of freedom = 22 + 22 - 2 = 42"
   ]
  },
  {
   "cell_type": "markdown",
   "id": "bffe0dd5",
   "metadata": {},
   "source": [
    "Significance level: 5%"
   ]
  },
  {
   "cell_type": "markdown",
   "id": "21dcf526",
   "metadata": {},
   "source": [
    "Critical value: -1.6825"
   ]
  },
  {
   "cell_type": "markdown",
   "id": "684bd6bd",
   "metadata": {},
   "source": [
    "Let, \n",
    "* x1 be the mean of 'Sales_before_digital_add'\n",
    "* x2 be the mean of 'Sales_After_digital_add'\n",
    "* s1 be the variance of 'Sales_before_digital_add'\n",
    "* s2 be the variance of 'Sales_After_digital_add'"
   ]
  },
  {
   "cell_type": "code",
   "execution_count": 6,
   "id": "d42146f8",
   "metadata": {},
   "outputs": [
    {
     "name": "stdout",
     "output_type": "stream",
     "text": [
      "The mean of Sales_before_digital_add(in $) is  149239.95454545456\n",
      "The mean of Sales_After_digital_add(in $) is 231123.72727272726\n"
     ]
    }
   ],
   "source": [
    "x1 = sale['Sales_before_digital_add(in $)'].mean()\n",
    "x2 = sale['Sales_After_digital_add(in $)'].mean()\n",
    "print('The mean of Sales_before_digital_add(in $) is ', x1)\n",
    "print('The mean of Sales_After_digital_add(in $) is', x2)"
   ]
  },
  {
   "cell_type": "code",
   "execution_count": 7,
   "id": "cc1e1e52",
   "metadata": {},
   "outputs": [
    {
     "name": "stdout",
     "output_type": "stream",
     "text": [
      "The variance of Sales_before_digital_add(in $) is  220345610.2359307\n",
      "The variance of Sales_After_digital_add(in $) is 653148853.7316018\n"
     ]
    }
   ],
   "source": [
    "s1 = sale['Sales_before_digital_add(in $)'].var()\n",
    "s2 = sale['Sales_After_digital_add(in $)'].var()\n",
    "print('The variance of Sales_before_digital_add(in $) is ', s1)\n",
    "print('The variance of Sales_After_digital_add(in $) is', s2)"
   ]
  },
  {
   "cell_type": "code",
   "execution_count": 8,
   "id": "6b21b319",
   "metadata": {},
   "outputs": [
    {
     "name": "stdout",
     "output_type": "stream",
     "text": [
      "The common variance is 457544719.2210884\n"
     ]
    }
   ],
   "source": [
    "S = (22*s1 + 22*s2)/(22 + 22 - 2)\n",
    "print('The common variance is', S)"
   ]
  },
  {
   "cell_type": "code",
   "execution_count": 9,
   "id": "6702a259",
   "metadata": {},
   "outputs": [
    {
     "name": "stdout",
     "output_type": "stream",
     "text": [
      "The t-test score is -12.696306939281017\n"
     ]
    }
   ],
   "source": [
    "S = math.sqrt(S)\n",
    "l = math.sqrt(1/11)\n",
    "t = (x1 - x2)/(S * l)\n",
    "print('The t-test score is', t)"
   ]
  },
  {
   "cell_type": "markdown",
   "id": "c5ec6595",
   "metadata": {},
   "source": [
    "#### Analyzing and reporting the result of the hypothesis testing"
   ]
  },
  {
   "cell_type": "markdown",
   "id": "b4d9b404",
   "metadata": {},
   "source": [
    "Since the absolute value of the t-test score is far greater than the absolute value of the critical value, **the null hypothesis is rejected.**"
   ]
  },
  {
   "cell_type": "markdown",
   "id": "953a4c83",
   "metadata": {},
   "source": [
    "Since the t-test score is much lesser than the critical value, it shows that there is an **increase in sales after the company has stepped into digital marketing.** "
   ]
  },
  {
   "cell_type": "markdown",
   "id": "922f1418",
   "metadata": {},
   "source": [
    "## Is there any dependency between the features 'Region' and 'Manager' ?"
   ]
  },
  {
   "cell_type": "markdown",
   "id": "1017e93d",
   "metadata": {},
   "source": [
    "|                  | Manager - A  | Manager - B | Manager - C | **Total** |\n",
    "| :---:            |     :---:      |    :---:      | :---:         |  :---:  |\n",
    "| **Region - A**     |    1,030,437   | 656,832       | 701,262       | 2,388,531 |\n",
    "| **Region - B**     |    939,851     | 231,808       | 429,436       | 1,601,095 |\n",
    "| **Region - C**     |    229,336     |  643,654      |  222,106      |  1,095,096 |\n",
    "| **Total**        |   2,199,624    |  1,532,294    |  1,352,804    |  5,084,722 |"
   ]
  },
  {
   "cell_type": "markdown",
   "id": "b45ce8aa",
   "metadata": {},
   "source": [
    "The above table shows the sum of all sales (after the company has stepped into digital marketing) for each manager in each region.\n"
   ]
  },
  {
   "cell_type": "markdown",
   "id": "a8df3f6e",
   "metadata": {},
   "source": [
    "To find out whether there is a dependency between features 'Region' and 'Manager' we are going to conduct the chi-square test for independence."
   ]
  },
  {
   "cell_type": "markdown",
   "id": "8bc46913",
   "metadata": {},
   "source": [
    "* Degree of freedom : 4\n",
    "* Significance level : 0.05\n",
    "* Critical value : 9.488"
   ]
  },
  {
   "cell_type": "markdown",
   "id": "31dab701",
   "metadata": {},
   "source": [
    "| Observed       | Expected  | (O-E) * (O-E) | Chi-square values | \n",
    "| :---:            |     :---:      |    :---:      | :---:         |  \n",
    "| 1,030,437  |    1,033,266   | 8,003,241      | 7.746       | \n",
    "| 656,832    |    719,790    | 3,963,709,764     | 5506.759      | \n",
    "| 701,262    |    635,475    |  4,327,929,369   |  6810.542    | \n",
    "| 939,851    |   692,625    |  61,120,695,076   |  88245.003   |  \n",
    "| 231,808    |  482,494 | 62,843,470,596 | 130247.155 |\n",
    "| 429436     | 425,976 | 11,971,600 | 28.104 |\n",
    "| 229336     | 473,733 | 59,729,893,609 | 126083.456 |\n",
    "| 643654     | 330010 | 98,372,558,736 | 298089.630 |\n",
    "| 222106     | 291,353 | 4,795,147,009 | 16458.204 | \n",
    "|**Total**   |  |  | **671,476.599** |"
   ]
  },
  {
   "cell_type": "markdown",
   "id": "a348e288",
   "metadata": {},
   "source": [
    "Since 671,476.599 > 9.488, we can conclude that **there is a dependency between 'Region' and 'Manager'.**"
   ]
  }
 ],
 "metadata": {
  "kernelspec": {
   "display_name": "Python 3",
   "language": "python",
   "name": "python3"
  },
  "language_info": {
   "codemirror_mode": {
    "name": "ipython",
    "version": 3
   },
   "file_extension": ".py",
   "mimetype": "text/x-python",
   "name": "python",
   "nbconvert_exporter": "python",
   "pygments_lexer": "ipython3",
   "version": "3.8.8"
  }
 },
 "nbformat": 4,
 "nbformat_minor": 5
}
