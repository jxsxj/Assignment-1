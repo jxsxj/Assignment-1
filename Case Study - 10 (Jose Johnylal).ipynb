{
 "cells": [
  {
   "cell_type": "markdown",
   "id": "8036a473",
   "metadata": {},
   "source": [
    "# CASE STUDY 10 - Probability\n",
    "\n",
    "> Done by Jose Johnylal\n",
    "\n",
    "----"
   ]
  },
  {
   "cell_type": "code",
   "execution_count": 1,
   "id": "5de8dfdd",
   "metadata": {},
   "outputs": [],
   "source": [
    "import numpy as np\n",
    "import pandas as pd\n",
    "import matplotlib.pyplot as plt\n",
    "import seaborn as sns"
   ]
  },
  {
   "cell_type": "markdown",
   "id": "704deaf9",
   "metadata": {},
   "source": [
    "## Reading the dataset "
   ]
  },
  {
   "cell_type": "code",
   "execution_count": 2,
   "id": "0d912a78",
   "metadata": {},
   "outputs": [],
   "source": [
    "mush = pd.read_csv('mushrooms.csv') "
   ]
  },
  {
   "cell_type": "code",
   "execution_count": 3,
   "id": "c2ad4978",
   "metadata": {},
   "outputs": [
    {
     "data": {
      "text/html": [
       "<div>\n",
       "<style scoped>\n",
       "    .dataframe tbody tr th:only-of-type {\n",
       "        vertical-align: middle;\n",
       "    }\n",
       "\n",
       "    .dataframe tbody tr th {\n",
       "        vertical-align: top;\n",
       "    }\n",
       "\n",
       "    .dataframe thead th {\n",
       "        text-align: right;\n",
       "    }\n",
       "</style>\n",
       "<table border=\"1\" class=\"dataframe\">\n",
       "  <thead>\n",
       "    <tr style=\"text-align: right;\">\n",
       "      <th></th>\n",
       "      <th>class</th>\n",
       "      <th>cap-shape</th>\n",
       "      <th>cap-surface</th>\n",
       "      <th>cap-color</th>\n",
       "      <th>bruises</th>\n",
       "      <th>odor</th>\n",
       "      <th>gill-attachment</th>\n",
       "      <th>gill-spacing</th>\n",
       "      <th>gill-size</th>\n",
       "      <th>gill-color</th>\n",
       "      <th>...</th>\n",
       "      <th>stalk-surface-below-ring</th>\n",
       "      <th>stalk-color-above-ring</th>\n",
       "      <th>stalk-color-below-ring</th>\n",
       "      <th>veil-type</th>\n",
       "      <th>veil-color</th>\n",
       "      <th>ring-number</th>\n",
       "      <th>ring-type</th>\n",
       "      <th>spore-print-color</th>\n",
       "      <th>population</th>\n",
       "      <th>habitat</th>\n",
       "    </tr>\n",
       "  </thead>\n",
       "  <tbody>\n",
       "    <tr>\n",
       "      <th>0</th>\n",
       "      <td>p</td>\n",
       "      <td>x</td>\n",
       "      <td>s</td>\n",
       "      <td>n</td>\n",
       "      <td>t</td>\n",
       "      <td>p</td>\n",
       "      <td>f</td>\n",
       "      <td>c</td>\n",
       "      <td>n</td>\n",
       "      <td>k</td>\n",
       "      <td>...</td>\n",
       "      <td>s</td>\n",
       "      <td>w</td>\n",
       "      <td>w</td>\n",
       "      <td>p</td>\n",
       "      <td>w</td>\n",
       "      <td>o</td>\n",
       "      <td>p</td>\n",
       "      <td>k</td>\n",
       "      <td>s</td>\n",
       "      <td>u</td>\n",
       "    </tr>\n",
       "    <tr>\n",
       "      <th>1</th>\n",
       "      <td>e</td>\n",
       "      <td>x</td>\n",
       "      <td>s</td>\n",
       "      <td>y</td>\n",
       "      <td>t</td>\n",
       "      <td>a</td>\n",
       "      <td>f</td>\n",
       "      <td>c</td>\n",
       "      <td>b</td>\n",
       "      <td>k</td>\n",
       "      <td>...</td>\n",
       "      <td>s</td>\n",
       "      <td>w</td>\n",
       "      <td>w</td>\n",
       "      <td>p</td>\n",
       "      <td>w</td>\n",
       "      <td>o</td>\n",
       "      <td>p</td>\n",
       "      <td>n</td>\n",
       "      <td>n</td>\n",
       "      <td>g</td>\n",
       "    </tr>\n",
       "    <tr>\n",
       "      <th>2</th>\n",
       "      <td>e</td>\n",
       "      <td>b</td>\n",
       "      <td>s</td>\n",
       "      <td>w</td>\n",
       "      <td>t</td>\n",
       "      <td>l</td>\n",
       "      <td>f</td>\n",
       "      <td>c</td>\n",
       "      <td>b</td>\n",
       "      <td>n</td>\n",
       "      <td>...</td>\n",
       "      <td>s</td>\n",
       "      <td>w</td>\n",
       "      <td>w</td>\n",
       "      <td>p</td>\n",
       "      <td>w</td>\n",
       "      <td>o</td>\n",
       "      <td>p</td>\n",
       "      <td>n</td>\n",
       "      <td>n</td>\n",
       "      <td>m</td>\n",
       "    </tr>\n",
       "    <tr>\n",
       "      <th>3</th>\n",
       "      <td>p</td>\n",
       "      <td>x</td>\n",
       "      <td>y</td>\n",
       "      <td>w</td>\n",
       "      <td>t</td>\n",
       "      <td>p</td>\n",
       "      <td>f</td>\n",
       "      <td>c</td>\n",
       "      <td>n</td>\n",
       "      <td>n</td>\n",
       "      <td>...</td>\n",
       "      <td>s</td>\n",
       "      <td>w</td>\n",
       "      <td>w</td>\n",
       "      <td>p</td>\n",
       "      <td>w</td>\n",
       "      <td>o</td>\n",
       "      <td>p</td>\n",
       "      <td>k</td>\n",
       "      <td>s</td>\n",
       "      <td>u</td>\n",
       "    </tr>\n",
       "    <tr>\n",
       "      <th>4</th>\n",
       "      <td>e</td>\n",
       "      <td>x</td>\n",
       "      <td>s</td>\n",
       "      <td>g</td>\n",
       "      <td>f</td>\n",
       "      <td>n</td>\n",
       "      <td>f</td>\n",
       "      <td>w</td>\n",
       "      <td>b</td>\n",
       "      <td>k</td>\n",
       "      <td>...</td>\n",
       "      <td>s</td>\n",
       "      <td>w</td>\n",
       "      <td>w</td>\n",
       "      <td>p</td>\n",
       "      <td>w</td>\n",
       "      <td>o</td>\n",
       "      <td>e</td>\n",
       "      <td>n</td>\n",
       "      <td>a</td>\n",
       "      <td>g</td>\n",
       "    </tr>\n",
       "  </tbody>\n",
       "</table>\n",
       "<p>5 rows × 23 columns</p>\n",
       "</div>"
      ],
      "text/plain": [
       "  class cap-shape cap-surface cap-color bruises odor gill-attachment  \\\n",
       "0     p         x           s         n       t    p               f   \n",
       "1     e         x           s         y       t    a               f   \n",
       "2     e         b           s         w       t    l               f   \n",
       "3     p         x           y         w       t    p               f   \n",
       "4     e         x           s         g       f    n               f   \n",
       "\n",
       "  gill-spacing gill-size gill-color  ... stalk-surface-below-ring  \\\n",
       "0            c         n          k  ...                        s   \n",
       "1            c         b          k  ...                        s   \n",
       "2            c         b          n  ...                        s   \n",
       "3            c         n          n  ...                        s   \n",
       "4            w         b          k  ...                        s   \n",
       "\n",
       "  stalk-color-above-ring stalk-color-below-ring veil-type veil-color  \\\n",
       "0                      w                      w         p          w   \n",
       "1                      w                      w         p          w   \n",
       "2                      w                      w         p          w   \n",
       "3                      w                      w         p          w   \n",
       "4                      w                      w         p          w   \n",
       "\n",
       "  ring-number ring-type spore-print-color population habitat  \n",
       "0           o         p                 k          s       u  \n",
       "1           o         p                 n          n       g  \n",
       "2           o         p                 n          n       m  \n",
       "3           o         p                 k          s       u  \n",
       "4           o         e                 n          a       g  \n",
       "\n",
       "[5 rows x 23 columns]"
      ]
     },
     "execution_count": 3,
     "metadata": {},
     "output_type": "execute_result"
    }
   ],
   "source": [
    "mush.head()"
   ]
  },
  {
   "cell_type": "code",
   "execution_count": 4,
   "id": "43b635d4",
   "metadata": {},
   "outputs": [
    {
     "data": {
      "text/plain": [
       "(8124, 23)"
      ]
     },
     "execution_count": 4,
     "metadata": {},
     "output_type": "execute_result"
    }
   ],
   "source": [
    "mush.shape"
   ]
  },
  {
   "cell_type": "code",
   "execution_count": 5,
   "id": "c1b240b6",
   "metadata": {},
   "outputs": [
    {
     "data": {
      "text/plain": [
       "class                       object\n",
       "cap-shape                   object\n",
       "cap-surface                 object\n",
       "cap-color                   object\n",
       "bruises                     object\n",
       "odor                        object\n",
       "gill-attachment             object\n",
       "gill-spacing                object\n",
       "gill-size                   object\n",
       "gill-color                  object\n",
       "stalk-shape                 object\n",
       "stalk-root                  object\n",
       "stalk-surface-above-ring    object\n",
       "stalk-surface-below-ring    object\n",
       "stalk-color-above-ring      object\n",
       "stalk-color-below-ring      object\n",
       "veil-type                   object\n",
       "veil-color                  object\n",
       "ring-number                 object\n",
       "ring-type                   object\n",
       "spore-print-color           object\n",
       "population                  object\n",
       "habitat                     object\n",
       "dtype: object"
      ]
     },
     "execution_count": 5,
     "metadata": {},
     "output_type": "execute_result"
    }
   ],
   "source": [
    "mush.dtypes"
   ]
  },
  {
   "cell_type": "markdown",
   "id": "b0a6b246",
   "metadata": {},
   "source": [
    "##  Pre-processing the dataset"
   ]
  },
  {
   "cell_type": "markdown",
   "id": "0f2ede58",
   "metadata": {},
   "source": [
    "### 1. Handling missing values if any"
   ]
  },
  {
   "cell_type": "code",
   "execution_count": 6,
   "id": "75df6cdb",
   "metadata": {},
   "outputs": [
    {
     "data": {
      "text/plain": [
       "class                       0\n",
       "cap-shape                   0\n",
       "cap-surface                 0\n",
       "cap-color                   0\n",
       "bruises                     0\n",
       "odor                        0\n",
       "gill-attachment             0\n",
       "gill-spacing                0\n",
       "gill-size                   0\n",
       "gill-color                  0\n",
       "stalk-shape                 0\n",
       "stalk-root                  0\n",
       "stalk-surface-above-ring    0\n",
       "stalk-surface-below-ring    0\n",
       "stalk-color-above-ring      0\n",
       "stalk-color-below-ring      0\n",
       "veil-type                   0\n",
       "veil-color                  0\n",
       "ring-number                 0\n",
       "ring-type                   0\n",
       "spore-print-color           0\n",
       "population                  0\n",
       "habitat                     0\n",
       "dtype: int64"
      ]
     },
     "execution_count": 6,
     "metadata": {},
     "output_type": "execute_result"
    }
   ],
   "source": [
    "mush.isna().sum()"
   ]
  },
  {
   "cell_type": "markdown",
   "id": "02d7ceb5",
   "metadata": {},
   "source": [
    "**It is observed that there are no missing values.**"
   ]
  },
  {
   "cell_type": "markdown",
   "id": "06723785",
   "metadata": {},
   "source": [
    "### 2. Separating the feature and target sets and encoding the feature set"
   ]
  },
  {
   "cell_type": "code",
   "execution_count": 7,
   "id": "e3e5f548",
   "metadata": {},
   "outputs": [],
   "source": [
    "X = mush.drop('class', axis=1)\n",
    "y = mush['class']"
   ]
  },
  {
   "cell_type": "markdown",
   "id": "0d17c892",
   "metadata": {},
   "source": [
    "Since the feature set (X) contains categorical data, one hot encoding needs to be performed."
   ]
  },
  {
   "cell_type": "code",
   "execution_count": 8,
   "id": "9f327109",
   "metadata": {},
   "outputs": [],
   "source": [
    "X = pd.get_dummies(X)"
   ]
  },
  {
   "cell_type": "markdown",
   "id": "8fb5ed4e",
   "metadata": {},
   "source": [
    "### 3. Creating Train-Test split (70/30)"
   ]
  },
  {
   "cell_type": "code",
   "execution_count": 9,
   "id": "6ebaca3a",
   "metadata": {},
   "outputs": [],
   "source": [
    "from sklearn.model_selection import train_test_split\n",
    "X_train, X_test, y_train, y_test = train_test_split(X, y, random_state=42, test_size=0.3)"
   ]
  },
  {
   "cell_type": "markdown",
   "id": "f5faf51e",
   "metadata": {},
   "source": [
    "##  Determining the suitable ML algorithm"
   ]
  },
  {
   "cell_type": "code",
   "execution_count": 10,
   "id": "dd680dd3",
   "metadata": {},
   "outputs": [
    {
     "data": {
      "text/plain": [
       "e    4208\n",
       "p    3916\n",
       "Name: class, dtype: int64"
      ]
     },
     "execution_count": 10,
     "metadata": {},
     "output_type": "execute_result"
    }
   ],
   "source": [
    "mush['class'].value_counts()"
   ]
  },
  {
   "cell_type": "markdown",
   "id": "896d6467",
   "metadata": {},
   "source": [
    "**Since the dataset contains labeled data, we use supervised learning techniques.**"
   ]
  },
  {
   "cell_type": "markdown",
   "id": "712b7091",
   "metadata": {},
   "source": [
    "**Since the target variable has binary classification, the following supervised classification techniques are used:**\n",
    "\n",
    "* Logistic regression\n",
    "* k-Nearest Neighbors\n",
    "* Support Vector Machines (Linear, Polynomial, Radial)\n",
    "* Decision Tree\n",
    "* Random Forest\n",
    "* Naive-Bayes Classifier (Bernoulli)"
   ]
  },
  {
   "cell_type": "markdown",
   "id": "c471f749",
   "metadata": {},
   "source": [
    "### 1. Logistic regression"
   ]
  },
  {
   "cell_type": "code",
   "execution_count": 11,
   "id": "a28166f2",
   "metadata": {},
   "outputs": [
    {
     "name": "stdout",
     "output_type": "stream",
     "text": [
      "Accuracy score:  1.0\n"
     ]
    }
   ],
   "source": [
    "from sklearn.metrics import accuracy_score\n",
    "from sklearn.linear_model import LogisticRegression\n",
    "logit_model = LogisticRegression()\n",
    "logit_model.fit(X_train, y_train)\n",
    "y_pred_lr = logit_model.predict(X_test)\n",
    "print('Accuracy score: ', accuracy_score(y_test, y_pred_lr))"
   ]
  },
  {
   "cell_type": "markdown",
   "id": "fa0e8c40",
   "metadata": {},
   "source": [
    "### 2. k-Nearest Neighbors"
   ]
  },
  {
   "cell_type": "code",
   "execution_count": 12,
   "id": "8c2b58a5",
   "metadata": {},
   "outputs": [],
   "source": [
    "from sklearn.neighbors import KNeighborsClassifier\n",
    "acc_values = []\n",
    "neighbors = np.arange(3,15)\n",
    "for k in neighbors:\n",
    "    classifier = KNeighborsClassifier(n_neighbors=k, metric='minkowski')\n",
    "    classifier.fit(X_train, y_train)\n",
    "    y_pred = classifier.predict(X_test)\n",
    "    acc = accuracy_score(y_test, y_pred)\n",
    "    acc_values.append(acc)"
   ]
  },
  {
   "cell_type": "code",
   "execution_count": 13,
   "id": "3c081bf5",
   "metadata": {},
   "outputs": [
    {
     "data": {
      "text/plain": [
       "Text(0, 0.5, 'accuracy')"
      ]
     },
     "execution_count": 13,
     "metadata": {},
     "output_type": "execute_result"
    },
    {
     "data": {
      "image/png": "[encoded data removed]",
      "text/plain": [
       "<Figure size 432x288 with 1 Axes>"
      ]
     },
     "metadata": {
      "needs_background": "light"
     },
     "output_type": "display_data"
    }
   ],
   "source": [
    "plt.plot(neighbors, acc_values, 'o-')\n",
    "plt.xlabel('k value')\n",
    "plt.ylabel('accuracy')"
   ]
  },
  {
   "cell_type": "markdown",
   "id": "b54172f3",
   "metadata": {},
   "source": [
    "**It is observed that k=3,4,5,6,7,8,9 have the highest accuracy of 1.0**"
   ]
  },
  {
   "cell_type": "markdown",
   "id": "dfbfbc90",
   "metadata": {},
   "source": [
    "**Final k-NN model with k=8**"
   ]
  },
  {
   "cell_type": "code",
   "execution_count": 14,
   "id": "b57bfeb9",
   "metadata": {},
   "outputs": [],
   "source": [
    "classifier = KNeighborsClassifier(n_neighbors=8, metric='minkowski')\n",
    "classifier.fit(X_train, y_train)\n",
    "y_pred_knn = classifier.predict(X_test)"
   ]
  },
  {
   "cell_type": "code",
   "execution_count": 15,
   "id": "ae1d7c0f",
   "metadata": {},
   "outputs": [
    {
     "name": "stdout",
     "output_type": "stream",
     "text": [
      "Accuracy score:  1.0\n"
     ]
    }
   ],
   "source": [
    "print('Accuracy score: ', accuracy_score(y_test, y_pred_knn))"
   ]
  },
  {
   "cell_type": "markdown",
   "id": "43172999",
   "metadata": {},
   "source": [
    "### 2. Support Vector Machines"
   ]
  },
  {
   "cell_type": "markdown",
   "id": "9ce397ee",
   "metadata": {},
   "source": [
    "#### 2.1 Linear SVM"
   ]
  },
  {
   "cell_type": "code",
   "execution_count": 16,
   "id": "c88ffa49",
   "metadata": {},
   "outputs": [],
   "source": [
    "from sklearn.svm import SVC \n",
    "svm_linear = SVC(kernel = 'linear')\n",
    "svm_linear.fit(X_train, y_train)\n",
    "y_pred_slinear = svm_linear.predict(X_test)"
   ]
  },
  {
   "cell_type": "code",
   "execution_count": 17,
   "id": "ccc5a074",
   "metadata": {},
   "outputs": [
    {
     "name": "stdout",
     "output_type": "stream",
     "text": [
      "Accuracy score:  1.0\n"
     ]
    }
   ],
   "source": [
    "print('Accuracy score: ', accuracy_score(y_test, y_pred_slinear))"
   ]
  },
  {
   "cell_type": "markdown",
   "id": "97cf862f",
   "metadata": {},
   "source": [
    "#### 2.2 Polynomial SVM"
   ]
  },
  {
   "cell_type": "code",
   "execution_count": 18,
   "id": "bb706b28",
   "metadata": {},
   "outputs": [],
   "source": [
    "acc_values = []\n",
    "deg = np.arange(2,15)\n",
    "for k in deg:\n",
    "    svm_poly = SVC(kernel = 'poly', degree=k)\n",
    "    svm_poly.fit(X_train, y_train)\n",
    "    y_pred_poly = svm_poly.predict(X_test)\n",
    "    acc = accuracy_score(y_test, y_pred_poly)\n",
    "    acc_values.append(acc)"
   ]
  },
  {
   "cell_type": "code",
   "execution_count": 19,
   "id": "ac122905",
   "metadata": {},
   "outputs": [
    {
     "data": {
      "text/plain": [
       "Text(0, 0.5, 'accuracy')"
      ]
     },
     "execution_count": 19,
     "metadata": {},
     "output_type": "execute_result"
    },
    {
     "data": {
      "image/png": "[encoded data removed]",
      "text/plain": [
       "<Figure size 432x288 with 1 Axes>"
      ]
     },
     "metadata": {
      "needs_background": "light"
     },
     "output_type": "display_data"
    }
   ],
   "source": [
    "plt.plot(deg, acc_values, 'o-')\n",
    "plt.xlabel('degree')\n",
    "plt.ylabel('accuracy')"
   ]
  },
  {
   "cell_type": "markdown",
   "id": "550b4bd4",
   "metadata": {},
   "source": [
    "It is observed that all degrees produce the highest accuracy of 1.0"
   ]
  },
  {
   "cell_type": "markdown",
   "id": "e64411ef",
   "metadata": {},
   "source": [
    "**Final Polynomial SVM model with degree=3**"
   ]
  },
  {
   "cell_type": "code",
   "execution_count": 20,
   "id": "2e79eca8",
   "metadata": {},
   "outputs": [
    {
     "name": "stdout",
     "output_type": "stream",
     "text": [
      "Accuracy score:  1.0\n"
     ]
    }
   ],
   "source": [
    "svm_poly = SVC(kernel = 'poly', degree=3)\n",
    "svm_poly.fit(X_train, y_train)\n",
    "y_pred_poly = svm_poly.predict(X_test)\n",
    "print('Accuracy score: ', accuracy_score(y_test, y_pred_poly))"
   ]
  },
  {
   "cell_type": "markdown",
   "id": "7ea43d7d",
   "metadata": {},
   "source": [
    "#### 2.3 Radial SVM"
   ]
  },
  {
   "cell_type": "code",
   "execution_count": 21,
   "id": "2b8fcb24",
   "metadata": {},
   "outputs": [
    {
     "name": "stdout",
     "output_type": "stream",
     "text": [
      "Accuracy score:  1.0\n"
     ]
    }
   ],
   "source": [
    "svm_radial = SVC(kernel = 'rbf')\n",
    "svm_radial.fit(X_train, y_train)\n",
    "y_pred_radial = svm_radial.predict(X_test)\n",
    "print('Accuracy score: ', accuracy_score(y_test, y_pred_radial))"
   ]
  },
  {
   "cell_type": "markdown",
   "id": "13eeb0f0",
   "metadata": {},
   "source": [
    "### 3. Decision tree"
   ]
  },
  {
   "cell_type": "code",
   "execution_count": 22,
   "id": "209cd44a",
   "metadata": {},
   "outputs": [
    {
     "name": "stdout",
     "output_type": "stream",
     "text": [
      "Accuracy score:  1.0\n"
     ]
    }
   ],
   "source": [
    "from sklearn.tree import DecisionTreeClassifier\n",
    "dt_model = DecisionTreeClassifier()\n",
    "dt_model.fit(X_train, y_train)\n",
    "y_pred_dt = dt_model.predict(X_test)\n",
    "print('Accuracy score: ', accuracy_score(y_test, y_pred_dt))"
   ]
  },
  {
   "cell_type": "markdown",
   "id": "071e5a1c",
   "metadata": {},
   "source": [
    "### 4. Random Forest"
   ]
  },
  {
   "cell_type": "code",
   "execution_count": 23,
   "id": "f42d50ae",
   "metadata": {
    "scrolled": true
   },
   "outputs": [
    {
     "name": "stdout",
     "output_type": "stream",
     "text": [
      "Accuracy score:  1.0\n"
     ]
    }
   ],
   "source": [
    "from sklearn.ensemble import RandomForestClassifier\n",
    "rf = RandomForestClassifier()\n",
    "rf.fit(X_train, y_train)\n",
    "y_pred_rf = rf.predict(X_test)\n",
    "print('Accuracy score: ', accuracy_score(y_test, y_pred_rf))"
   ]
  },
  {
   "cell_type": "markdown",
   "id": "7431f3df",
   "metadata": {},
   "source": [
    "### 5. Naive-Bayes Classifier (Bernoulli)"
   ]
  },
  {
   "cell_type": "markdown",
   "id": "8dec61da",
   "metadata": {},
   "source": [
    "Since the target variable has binary classification, Bernoulli Naive Bayes Classifier is used."
   ]
  },
  {
   "cell_type": "code",
   "execution_count": 24,
   "id": "06ac9369",
   "metadata": {},
   "outputs": [
    {
     "name": "stdout",
     "output_type": "stream",
     "text": [
      "Accuracy score:  0.9343724364232978\n"
     ]
    }
   ],
   "source": [
    "from sklearn.naive_bayes import BernoulliNB\n",
    "classifier = BernoulliNB()\n",
    "classifier.fit(X_train, y_train)\n",
    "y_pred_nb = classifier.predict(X_test)\n",
    "print('Accuracy score: ', accuracy_score(y_test, y_pred_nb))"
   ]
  },
  {
   "cell_type": "markdown",
   "id": "b92d1fc2",
   "metadata": {},
   "source": [
    "### FINAL OBSERVATIONS:"
   ]
  },
  {
   "cell_type": "code",
   "execution_count": 25,
   "id": "ba81bf66",
   "metadata": {},
   "outputs": [
    {
     "name": "stdout",
     "output_type": "stream",
     "text": [
      "Accuracy score of logistic regression:                1.0\n",
      "Accuracy score of k-NN classifier with k=8 :          1.0\n",
      "Accuracy score of linear SVM:                         1.0\n",
      "Accuracy score of polynomial SVM with degree=3 :      1.0\n",
      "Accuracy score of radial SVM:                         1.0\n",
      "Accuracy score of Decision tree:                      1.0\n",
      "Accuracy score of Random Forest Algorithm:            1.0\n",
      "Accuracy score of Naive Bayes Classifier(Bernoulli):  0.9343724364232978\n"
     ]
    }
   ],
   "source": [
    "print('Accuracy score of logistic regression:               ', accuracy_score(y_test, y_pred_lr))\n",
    "print('Accuracy score of k-NN classifier with k=8 :         ', accuracy_score(y_test, y_pred_knn))\n",
    "print('Accuracy score of linear SVM:                        ', accuracy_score(y_test, y_pred_slinear))\n",
    "print('Accuracy score of polynomial SVM with degree=3 :     ', accuracy_score(y_test, y_pred_poly))\n",
    "print('Accuracy score of radial SVM:                        ', accuracy_score(y_test, y_pred_radial))\n",
    "print('Accuracy score of Decision tree:                     ', accuracy_score(y_test, y_pred_dt))\n",
    "print('Accuracy score of Random Forest Algorithm:           ', accuracy_score(y_test, y_pred_rf))\n",
    "print('Accuracy score of Naive Bayes Classifier(Bernoulli): ', accuracy_score(y_test, y_pred_nb))"
   ]
  },
  {
   "cell_type": "markdown",
   "id": "e8eb9fab",
   "metadata": {},
   "source": [
    "## Conclusions:\n",
    "\n",
    "> * All ML algorithms mentioned above **except Naive Bayes(Bernoulli)** provide the best result to predict whether the mushroom is edible or poisonous. "
   ]
  },
  {
   "cell_type": "code",
   "execution_count": null,
   "id": "3b480ddb",
   "metadata": {},
   "outputs": [],
   "source": []
  }
 ],
 "metadata": {
  "kernelspec": {
   "display_name": "Python 3",
   "language": "python",
   "name": "python3"
  },
  "language_info": {
   "codemirror_mode": {
    "name": "ipython",
    "version": 3
   },
   "file_extension": ".py",
   "mimetype": "text/x-python",
   "name": "python",
   "nbconvert_exporter": "python",
   "pygments_lexer": "ipython3",
   "version": "3.8.8"
  }
 },
 "nbformat": 4,
 "nbformat_minor": 5
}
